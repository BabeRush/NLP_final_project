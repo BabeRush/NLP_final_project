{
  "nbformat": 4,
  "nbformat_minor": 0,
  "metadata": {
    "colab": {
      "provenance": [],
      "authorship_tag": "ABX9TyOb+klqe1jJBow1YYotUepm",
      "include_colab_link": true
    },
    "kernelspec": {
      "name": "python3",
      "display_name": "Python 3"
    },
    "language_info": {
      "name": "python"
    }
  },
  "cells": [
    {
      "cell_type": "markdown",
      "metadata": {
        "id": "view-in-github",
        "colab_type": "text"
      },
      "source": [
        "<a href=\"https://colab.research.google.com/github/BabeRush/NLP_final_project/blob/main/datasets_util.ipynb\" target=\"_parent\"><img src=\"https://colab.research.google.com/assets/colab-badge.svg\" alt=\"Open In Colab\"/></a>"
      ]
    },
    {
      "cell_type": "markdown",
      "source": [
        "# Functions for datasets manipulations and combinations"
      ],
      "metadata": {
        "id": "NZafWTXBC-mA"
      }
    },
    {
      "cell_type": "code",
      "source": [
        " def prepare_dataset_1(df_real, df_fake, short_markers=False, text=True, title=False, subject=False):\n",
        "  import pandas as pd\n",
        "  # Always drop \"date\"\n",
        "  columns_to_drop = ['date']\n",
        "  if not short_markers:\n",
        "    if not text:\n",
        "      columns_to_drop.append('text')\n",
        "    if not title:\n",
        "      columns_to_drop.append('title')\n",
        "    if not subject:\n",
        "      columns_to_drop.append('subject')\n",
        "    if columns_to_drop:  # Check if the list is not empty\n",
        "      df_real = df_real.drop(columns=columns_to_drop)\n",
        "      df_fake = df_fake.drop(columns=columns_to_drop)\n",
        "    df_real = df_real.apply(lambda row: ' '.join(map(str, row)), axis=1)\n",
        "    df_real = pd.DataFrame({'text_no_markers': df_real})\n",
        "    df_real['label'] = 1\n",
        "    df_fake = df_fake.apply(lambda row: ' '.join(map(str, row)), axis=1)\n",
        "    df_fake = pd.DataFrame({'text_no_markers': df_fake})\n",
        "    df_fake['label'] = 0\n",
        "    # Concatenate df_real and df_fake into a single dataframe\n",
        "    combined_df = pd.concat([df_real, df_fake], ignore_index=True)\n",
        "    # Shuffle the rows in the combined dataframe\n",
        "    combined_df = combined_df.sample(frac=1).reset_index(drop=True)\n",
        "    # Selecting \"text_no_markers\" and \"label\" columns to create df_no_markers\n",
        "    return combined_df[['text_no_markers', 'label']]\n",
        "  # else:\n",
        "  #   tags_list =['[S]', '[TI]', '[T]']\n",
        "  #   if not text:\n",
        "  #     columns_to_drop.append('text')\n",
        "  #     tags_list.remove('[T]')\n",
        "  #   if not title:\n",
        "  #     columns_to_drop.append('title')\n",
        "  #     tags_list.remove('[TI]')\n",
        "  #   if not subject:\n",
        "  #     columns_to_drop.append('subject')\n",
        "  #     tags_list.remove('[S]')\n",
        "  #   if columns_to_drop:  # Check if the list is not empty\n",
        "  #     df_real = df_real.drop(columns=columns_to_drop)\n",
        "  #     df_fake = df_fake.drop(columns=columns_to_drop)\n",
        "  #   df_real = df_real.apply(lambda row: ' '.join(map(str, row)), axis=1)\n",
        "  #   df_real = pd.DataFrame({'text_no_markers': df_real})\n",
        "  #   df_real['label'] = 1\n",
        "  #   df_fake = df_fake.apply(lambda row: ' '.join(map(str, row)), axis=1)\n",
        "  #   df_fake = pd.DataFrame({'text_no_markers': df_fake})\n",
        "  #   df_fake['label'] = 0\n",
        "  #   # Concatenate df_real and df_fake into a single dataframe\n",
        "  #   combined_df = pd.concat([df_real, df_fake], ignore_index=True)\n",
        "  #   # Shuffle the rows in the combined dataframe\n",
        "  #   combined_df = combined_df.sample(frac=1).reset_index(drop=True)\n",
        "  #   # Selecting \"text_no_markers\" and \"label\" columns to create df_no_markers\n",
        "  #   return combined_df[['text_no_markers', 'label']]"
      ],
      "metadata": {
        "id": "22XSex5BDEBR"
      },
      "execution_count": 4,
      "outputs": []
    },
    {
      "cell_type": "code",
      "source": [
        " def prepare_dataset_2(liar_train, liar_valid, liar_test, subject=False, statement=True, speaker=True, context=False):\n",
        "  import pandas as pd\n",
        "  label_mapping = {\n",
        "    'true': 1,\n",
        "    'mostly-true': 1,\n",
        "    'half-true': 0,\n",
        "    'barely-true': 0,\n",
        "    'false': 0,\n",
        "    'pants-fire': 0\n",
        "  }\n",
        "\n",
        "  # Update the 'Label' column based on the mapping\n",
        "  liar_train['label'] = liar_train['label'] .map(label_mapping)\n",
        "  liar_valid['label'] = liar_valid['label'] .map(label_mapping)\n",
        "  liar_test['label'] = liar_test['label'] .map(label_mapping)\n",
        "  # Drop the 'id' column from liar_train\n",
        "  liar_train.drop('id', axis=1, inplace=True)\n",
        "  # Drop the 'id' column from liar_valid\n",
        "  liar_valid.drop('id', axis=1, inplace=True)\n",
        "  # Drop the 'id' column from liar_test\n",
        "  liar_test.drop('id', axis=1, inplace=True)\n",
        "  required_columns = []\n",
        "  if subject:\n",
        "    required_columns.append('subject')\n",
        "  if statement:\n",
        "    required_columns.append('statement')\n",
        "  if speaker:\n",
        "    required_columns.append('speaker')\n",
        "  if context:\n",
        "    required_columns.append('context')\n",
        "  combined_liar_df = pd.concat([liar_train, liar_valid, liar_test], ignore_index=True)\n",
        "  combined_liar_df = combined_liar_df.sample(frac=1).reset_index(drop=True)\n",
        "  combined_liar_df['text_no_markers'] = combined_liar_df[required_columns].fillna('').apply(lambda x: ' '.join(x), axis=1)\n",
        "  return combined_liar_df[['text_no_markers', 'label']]\n"
      ],
      "metadata": {
        "id": "UEKoWqwHZD-8"
      },
      "execution_count": 5,
      "outputs": []
    }
  ]
}
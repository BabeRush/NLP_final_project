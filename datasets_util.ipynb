{
  "nbformat": 4,
  "nbformat_minor": 0,
  "metadata": {
    "colab": {
      "provenance": [],
      "authorship_tag": "ABX9TyMobCKcRqWR9yG/7EuAEOTV",
      "include_colab_link": true
    },
    "kernelspec": {
      "name": "python3",
      "display_name": "Python 3"
    },
    "language_info": {
      "name": "python"
    }
  },
  "cells": [
    {
      "cell_type": "markdown",
      "metadata": {
        "id": "view-in-github",
        "colab_type": "text"
      },
      "source": [
        "<a href=\"https://colab.research.google.com/github/BabeRush/NLP_final_project/blob/main/datasets_util.ipynb\" target=\"_parent\"><img src=\"https://colab.research.google.com/assets/colab-badge.svg\" alt=\"Open In Colab\"/></a>"
      ]
    },
    {
      "cell_type": "markdown",
      "source": [
        "# Functions for datasets manipulations and combinations"
      ],
      "metadata": {
        "id": "NZafWTXBC-mA"
      }
    },
    {
      "cell_type": "code",
      "source": [
        " def prepare_dataset_1(df_real, df_fake, short_markers=False, text=True, title=False, subject=False):\n",
        "  columns_to_drop = []\n",
        "  if no_markers:\n",
        "    if not text:\n",
        "      columns_to_drop.append('text')\n",
        "    if not title:\n",
        "      columns_to_drop.append('title')\n",
        "    if not subject:\n",
        "      columns_to_drop.append('subject')\n",
        "    if columns_to_drop:  # Check if the list is not empty\n",
        "      df_real = df_real.drop(columns=columns_to_drop)\n",
        "      df_fake = df_fake.drop(columns=columns_to_drop)\n",
        "    df_real = df.apply(lambda row: ' '.join(map(str, row)), axis=1)\n",
        "    df_real = pd.DataFrame({'text_no_markers': df_real})\n",
        "    df_real['label'] = 1\n",
        "    df_fake = df.apply(lambda row: ' '.join(map(str, row)), axis=1)\n",
        "    df_fake = pd.DataFrame({'text_no_markers': df_fake})\n",
        "    df_fake['label'] = 0\n",
        "    # Concatenate df_real and df_fake into a single dataframe\n",
        "    combined_df = pd.concat([df_real, df_fake], ignore_index=True)\n",
        "    # Shuffle the rows in the combined dataframe\n",
        "    combined_df = combined_df.sample(frac=1).reset_index(drop=True)\n",
        "    # Selecting \"text_no_markers\" and \"label\" columns to create df_no_markers\n",
        "    return combined_df[['text_no_markers', 'label']]\n",
        "\n",
        ""
      ],
      "metadata": {
        "id": "22XSex5BDEBR"
      },
      "execution_count": null,
      "outputs": []
    }
  ]
}